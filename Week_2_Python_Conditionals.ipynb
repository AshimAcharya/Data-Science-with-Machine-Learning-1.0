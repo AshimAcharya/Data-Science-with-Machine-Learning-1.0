{
  "nbformat": 4,
  "nbformat_minor": 0,
  "metadata": {
    "colab": {
      "provenance": [],
      "authorship_tag": "ABX9TyOaO65w11prgpAZFJLjhBr7",
      "include_colab_link": true
    },
    "kernelspec": {
      "name": "python3",
      "display_name": "Python 3"
    },
    "language_info": {
      "name": "python"
    }
  },
  "cells": [
    {
      "cell_type": "markdown",
      "metadata": {
        "id": "view-in-github",
        "colab_type": "text"
      },
      "source": [
        "<a href=\"https://colab.research.google.com/github/AshimAcharya/Data-Science-with-Machine-Learning-1.0/blob/main/Week_2_Python_Conditionals.ipynb\" target=\"_parent\"><img src=\"https://colab.research.google.com/assets/colab-badge.svg\" alt=\"Open In Colab\"/></a>"
      ]
    },
    {
      "cell_type": "markdown",
      "source": [
        "### 1.Write a program to check if a number is positive or negative."
      ],
      "metadata": {
        "id": "ARV-luh8h4c8"
      }
    },
    {
      "cell_type": "code",
      "execution_count": 5,
      "metadata": {
        "colab": {
          "base_uri": "https://localhost:8080/"
        },
        "id": "lUxtuGiphpjh",
        "outputId": "a9eaa453-abe8-45a5-9eab-07d301f68215"
      },
      "outputs": [
        {
          "output_type": "stream",
          "name": "stdout",
          "text": [
            "Enter any integer number:-1\n",
            "The number is negative.\n"
          ]
        }
      ],
      "source": [
        "number = int(input(\"Enter any integer number:\"))\n",
        "if number >= 0:\n",
        "  print(\"The number is positive.\")\n",
        "else:\n",
        "  print(\"The number is negative.\")"
      ]
    },
    {
      "cell_type": "markdown",
      "source": [
        "### 2.Write a program to determine the grade based on a student's marks."
      ],
      "metadata": {
        "id": "LX4eT-Vrjxqa"
      }
    },
    {
      "cell_type": "code",
      "source": [
        "# This program is for grading IELTS listening score to their respected bands.\n",
        "mark = int(input(\"Enter the student mark:\"))\n",
        "if mark == 0:\n",
        "  print(\"The user did not attemped the test.\")\n",
        "elif mark <= 5:\n",
        "  print(\"The IELTS band is 2.5 and the level is A1\")\n",
        "elif mark <= 7:\n",
        "  print(\"The IELTS band is 3 and the level is A1\")\n",
        "elif mark <= 10:\n",
        "  print(\"The IELTS band is 3.5 and the level is A1\")\n",
        "elif mark <= 12:\n",
        "  print(\"The IELTS band is 4 and the level is A2\")\n",
        "elif mark <= 15:\n",
        "  print(\"The IELTS band is 4.5 and the level is B1\")\n",
        "elif mark <= 17:\n",
        "  print(\"The IELTS band is 5 and the level is B1\")\n",
        "elif mark <= 22:\n",
        "  print(\"The IELTS band is 5.5 and the level is B2\")\n",
        "elif mark <= 25:\n",
        "  print(\"The IELTS band is 6 and the level is B2\")\n",
        "elif mark <= 29:\n",
        "  print(\"The IELTS band is 6.5 and the level is B2\")\n",
        "elif mark <= 31:\n",
        "  print (\"The IELTS band is 7 and the level is C1\")\n",
        "elif mark <= 34:\n",
        "  print(\"The IELTS band is 7.5 and the level is C1\")\n",
        "elif mark <= 36:\n",
        "  print(\"The IELTS band is 8 and the level is C1\")\n",
        "elif mark <= 38:\n",
        "  print(\"The IELTS band is 8.5 and the level is C2\")\n",
        "elif mark <= 40:\n",
        "  print(\"The IELTS band is 9 and the level is C2\")\n",
        "else:\n",
        "    print(\"The number is invalid.\")\n"
      ],
      "metadata": {
        "colab": {
          "base_uri": "https://localhost:8080/"
        },
        "id": "EP-LMIFgj3hS",
        "outputId": "d5e96eed-4236-4596-9256-4dcce51ed2d4"
      },
      "execution_count": 14,
      "outputs": [
        {
          "output_type": "stream",
          "name": "stdout",
          "text": [
            "Enter the student mark:34\n",
            "The IELTS band is 7.5 and the level is C1\n"
          ]
        }
      ]
    },
    {
      "cell_type": "markdown",
      "source": [
        "### 3.Write a program to check the season based on the month number."
      ],
      "metadata": {
        "id": "DqHuOZ18sDxz"
      }
    },
    {
      "cell_type": "code",
      "source": [
        "month = int(input(\"Enter the month's number. \"))\n",
        "if month <=2:\n",
        "  print (\"This is winter season.\")\n",
        "elif month <=4:\n",
        "  print (\"This is spring season.\")\n",
        "elif month <= 6:\n",
        "  print (\"This is summer season.\")\n",
        "elif month <= 8:\n",
        "  print (\"This is rainy season.\")\n",
        "elif month <= 9:\n",
        "  print (\"This is autumn season.\")\n",
        "elif month <= 11:\n",
        "  print (\"This is pre-winter/Hemant season.\")\n",
        "elif month == 12:\n",
        "  print (\"This is winter season.\")\n",
        "else:\n",
        "  print (\"This is invalid month.\")"
      ],
      "metadata": {
        "colab": {
          "base_uri": "https://localhost:8080/"
        },
        "id": "hKhefuIPsNNU",
        "outputId": "0ad18169-5cf8-4acf-b6bb-4d1432593337"
      },
      "execution_count": 13,
      "outputs": [
        {
          "output_type": "stream",
          "name": "stdout",
          "text": [
            "Enter the month's number. 7\n",
            "This is rainy season.\n"
          ]
        }
      ]
    },
    {
      "cell_type": "markdown",
      "source": [
        "### 4.Write a program to determine the type of triangle based on sides."
      ],
      "metadata": {
        "id": "ltEUGPzXxLnI"
      }
    },
    {
      "cell_type": "code",
      "source": [
        "a = int(input(\"Enter the first side of the triangle. \"))\n",
        "b = int(input(\"Enter the second side of the triangle. \"))\n",
        "c = int(input(\"Enter the third side of the triangle. \"))\n",
        "if a==b==c:\n",
        "  print(\"The triangle is equilateral triangle\")\n",
        "elif (a==b) or (b==c) or (a==c):\n",
        "  print (\"The triangle is isosceles triangle.\")\n",
        "else:\n",
        "   print (\"The triangle is scalene triangle.\")"
      ],
      "metadata": {
        "colab": {
          "base_uri": "https://localhost:8080/"
        },
        "id": "8l4_7OvbxauI",
        "outputId": "4e7ac76b-a4ee-44bf-ed7e-46f1ef75d219"
      },
      "execution_count": 20,
      "outputs": [
        {
          "output_type": "stream",
          "name": "stdout",
          "text": [
            "Enter the first side of the triangle. 1\n",
            "Enter the second side of the triangle. 2\n",
            "Enter the third side of the triangle. 2\n",
            "The triangle is isosceles triangle.\n"
          ]
        }
      ]
    },
    {
      "cell_type": "markdown",
      "source": [
        "### 5.Write a program to check if a year is a leap year."
      ],
      "metadata": {
        "id": "5W8SgNeXz-kW"
      }
    },
    {
      "cell_type": "code",
      "source": [
        "year =int(input(\"Enter the year. \"))\n",
        "if year % 100 == 0 and year % 400 == 0:\n",
        "  print(\"The year is leap year\")\n",
        "elif year % 4 == 0:\n",
        "  print (\"The year is not leap year.\")\n",
        "else:\n",
        "  print(\"The year is leap year\")"
      ],
      "metadata": {
        "colab": {
          "base_uri": "https://localhost:8080/"
        },
        "id": "KmRGbn-j0PPP",
        "outputId": "b78424ea-da88-4005-d183-f8f4a5de6974"
      },
      "execution_count": 23,
      "outputs": [
        {
          "output_type": "stream",
          "name": "stdout",
          "text": [
            "Enter the year. 2100\n",
            "The year is not leap year.\n"
          ]
        }
      ]
    },
    {
      "cell_type": "markdown",
      "source": [
        "### 6.Check if a number is within a specified range."
      ],
      "metadata": {
        "id": "mJypSwHj3pdE"
      }
    },
    {
      "cell_type": "code",
      "source": [
        "y = range(1,20)\n",
        "x = int(input(\"Enter any number. \"))\n",
        "if x in y:\n",
        "  print (\"The number is in specified range.\")\n",
        "else:\n",
        "  print(\"The number is not in the specified range.\")"
      ],
      "metadata": {
        "colab": {
          "base_uri": "https://localhost:8080/"
        },
        "id": "DEblB3Mu36Mi",
        "outputId": "ccca65f5-66f8-4fb1-b834-64919eb56475"
      },
      "execution_count": 11,
      "outputs": [
        {
          "output_type": "stream",
          "name": "stdout",
          "text": [
            "Enter any number. 12\n",
            "The number is in specified range.\n"
          ]
        }
      ]
    }
  ]
}