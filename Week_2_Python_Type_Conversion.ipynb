{
  "nbformat": 4,
  "nbformat_minor": 0,
  "metadata": {
    "colab": {
      "provenance": [],
      "authorship_tag": "ABX9TyNpGIT6kB+THydONxvC/yL0",
      "include_colab_link": true
    },
    "kernelspec": {
      "name": "python3",
      "display_name": "Python 3"
    },
    "language_info": {
      "name": "python"
    }
  },
  "cells": [
    {
      "cell_type": "markdown",
      "metadata": {
        "id": "view-in-github",
        "colab_type": "text"
      },
      "source": [
        "<a href=\"https://colab.research.google.com/github/AshimAcharya/Data-Science-with-Machine-Learning-1.0/blob/main/Week_2_Python_Type_Conversion.ipynb\" target=\"_parent\"><img src=\"https://colab.research.google.com/assets/colab-badge.svg\" alt=\"Open In Colab\"/></a>"
      ]
    },
    {
      "cell_type": "markdown",
      "source": [
        "### 1.Convert an integer to a floating-point number."
      ],
      "metadata": {
        "id": "F1r_2wqvIrbV"
      }
    },
    {
      "cell_type": "code",
      "execution_count": 1,
      "metadata": {
        "colab": {
          "base_uri": "https://localhost:8080/"
        },
        "id": "XTYOKftGINKH",
        "outputId": "1471005f-4007-4c20-ffe1-67691248fbbb"
      },
      "outputs": [
        {
          "output_type": "stream",
          "name": "stdout",
          "text": [
            "Enter an integer: -30\n",
            "-30.0\n",
            "<class 'float'>\n"
          ]
        }
      ],
      "source": [
        "num = int(input(\"Enter an integer: \"))\n",
        "floating_point_number = float(num)\n",
        "print(floating_point_number)\n",
        "print(type(floating_point_number))"
      ]
    },
    {
      "cell_type": "markdown",
      "source": [
        "### 2.Convert a float to an integer."
      ],
      "metadata": {
        "id": "5Ib1s7GVJyXS"
      }
    },
    {
      "cell_type": "code",
      "source": [
        "float_num = float(input(\"Enter any floating point number: \"))\n",
        "int_num = int(float_num)\n",
        "print (int_num)\n",
        "print (type(int_num))"
      ],
      "metadata": {
        "colab": {
          "base_uri": "https://localhost:8080/"
        },
        "id": "xGjOI2JiJ_Ox",
        "outputId": "3f307540-bb94-4ac7-9b9e-c8f90b4f216b"
      },
      "execution_count": 2,
      "outputs": [
        {
          "output_type": "stream",
          "name": "stdout",
          "text": [
            "Enter any floating point number: 45.66\n",
            "45\n",
            "<class 'int'>\n"
          ]
        }
      ]
    },
    {
      "cell_type": "markdown",
      "source": [
        "### 3.Convert an integer to a string."
      ],
      "metadata": {
        "id": "ELRqgi2eKqEK"
      }
    },
    {
      "cell_type": "code",
      "source": [
        "int_num = int(input(\"Enter an integer: \"))\n",
        "string = str(int_num)\n",
        "print(string)\n",
        "print(type(string))"
      ],
      "metadata": {
        "colab": {
          "base_uri": "https://localhost:8080/"
        },
        "id": "nBR_Ef39K6u5",
        "outputId": "f246932d-faf0-45da-f1fe-18ec6bec1692"
      },
      "execution_count": 3,
      "outputs": [
        {
          "output_type": "stream",
          "name": "stdout",
          "text": [
            "Enter an integer: 32\n",
            "32\n",
            "<class 'str'>\n"
          ]
        }
      ]
    },
    {
      "cell_type": "markdown",
      "source": [
        "### 4.Convert a list to a tuple."
      ],
      "metadata": {
        "id": "I4goNkUFLhNx"
      }
    },
    {
      "cell_type": "code",
      "source": [
        "list_names = [\"Ram\",\"Sita\",\"Krishna\",\"Radha\"]\n",
        "tuple_names = tuple(list_names)\n",
        "print(tuple_names)\n",
        "print (type(tuple_names))"
      ],
      "metadata": {
        "colab": {
          "base_uri": "https://localhost:8080/"
        },
        "id": "CODlgfgwLZFQ",
        "outputId": "e5f0ce14-998e-4677-9f06-3b66fb0f1726"
      },
      "execution_count": 4,
      "outputs": [
        {
          "output_type": "stream",
          "name": "stdout",
          "text": [
            "('Ram', 'Sita', 'Krishna', 'Radha')\n",
            "<class 'tuple'>\n"
          ]
        }
      ]
    },
    {
      "cell_type": "markdown",
      "source": [
        "### 5. Convert a tuple to a list.\n"
      ],
      "metadata": {
        "id": "hhz1EUoGSTlj"
      }
    },
    {
      "cell_type": "code",
      "source": [
        "tuple_items = (\"football\",\"volleyball\",\"cricket ball\",\"basket ball\")\n",
        "list_items = list(tuple_items)\n",
        "print(list_items)\n",
        "print(type(list_items))"
      ],
      "metadata": {
        "colab": {
          "base_uri": "https://localhost:8080/"
        },
        "id": "P17-v5ZBSeHa",
        "outputId": "2ca1475c-08e2-4bfd-f864-85af0727bf8c"
      },
      "execution_count": 14,
      "outputs": [
        {
          "output_type": "stream",
          "name": "stdout",
          "text": [
            "['football', 'volleyball', 'cricket ball', 'basket ball']\n",
            "<class 'list'>\n"
          ]
        }
      ]
    },
    {
      "cell_type": "markdown",
      "source": [
        "### 6. Convert a decimal number to binary."
      ],
      "metadata": {
        "id": "4a2G24LeNCxw"
      }
    },
    {
      "cell_type": "code",
      "source": [
        "decimal_num = int(input(\"Enter any decimal number: \"))\n",
        "binary_num = bin(decimal_num)\n",
        "print(binary_num)"
      ],
      "metadata": {
        "colab": {
          "base_uri": "https://localhost:8080/"
        },
        "id": "8Ah4sswSNR1n",
        "outputId": "52d88275-8b65-4f8c-c534-f36ff767ccac"
      },
      "execution_count": 12,
      "outputs": [
        {
          "output_type": "stream",
          "name": "stdout",
          "text": [
            "Enter any decimal number: 25\n",
            "0b11001\n"
          ]
        }
      ]
    },
    {
      "cell_type": "markdown",
      "source": [
        "### 7.Convert a non-zero number to boolean."
      ],
      "metadata": {
        "id": "yeot5foeRMod"
      }
    },
    {
      "cell_type": "code",
      "source": [
        "num = int(input(\"Enter any number: \"))\n",
        "boolean = bool(num)\n",
        "print(boolean)\n",
        "print(type(boolean))"
      ],
      "metadata": {
        "colab": {
          "base_uri": "https://localhost:8080/"
        },
        "id": "SpuRqmFPRiFu",
        "outputId": "46d6dd5b-6067-4990-b105-d283f68f627a"
      },
      "execution_count": 13,
      "outputs": [
        {
          "output_type": "stream",
          "name": "stdout",
          "text": [
            "Enter any number: 3\n",
            "True\n",
            "<class 'bool'>\n"
          ]
        }
      ]
    }
  ]
}