{
  "nbformat": 4,
  "nbformat_minor": 0,
  "metadata": {
    "colab": {
      "provenance": [],
      "authorship_tag": "ABX9TyNCci2bxpwhsl70vICxBdbk",
      "include_colab_link": true
    },
    "kernelspec": {
      "name": "python3",
      "display_name": "Python 3"
    },
    "language_info": {
      "name": "python"
    }
  },
  "cells": [
    {
      "cell_type": "markdown",
      "metadata": {
        "id": "view-in-github",
        "colab_type": "text"
      },
      "source": [
        "<a href=\"https://colab.research.google.com/github/AshimAcharya/Data-Science-with-Machine-Learning-1.0/blob/main/Week_2_Python_loops.ipynb\" target=\"_parent\"><img src=\"https://colab.research.google.com/assets/colab-badge.svg\" alt=\"Open In Colab\"/></a>"
      ]
    },
    {
      "cell_type": "markdown",
      "source": [
        "### 1.Print numbers from 1 to 5 using a while loop."
      ],
      "metadata": {
        "id": "eLnrAPtoyZf7"
      }
    },
    {
      "cell_type": "code",
      "execution_count": null,
      "metadata": {
        "colab": {
          "base_uri": "https://localhost:8080/"
        },
        "id": "ZjO8Qfc1rOIR",
        "outputId": "990cc0e4-cbe4-4ac2-d533-58912d828388"
      },
      "outputs": [
        {
          "output_type": "stream",
          "name": "stdout",
          "text": [
            "1, 2, 3, 4, 5, "
          ]
        }
      ],
      "source": [
        "num = 1\n",
        "\n",
        "while num <= 5:\n",
        "    print(num,end = \", \")\n",
        "    num += 1"
      ]
    },
    {
      "cell_type": "markdown",
      "source": [
        "### 2.Calculate the sum of numbers from 1 to 10 using a while loop."
      ],
      "metadata": {
        "id": "Jyc9zkg8zlaB"
      }
    },
    {
      "cell_type": "code",
      "source": [
        "x = 1\n",
        "sum = 0\n",
        "\n",
        "while x <= 10:\n",
        "    sum = sum + x\n",
        "    print(sum)\n",
        "    x += 1"
      ],
      "metadata": {
        "colab": {
          "base_uri": "https://localhost:8080/"
        },
        "id": "690_-LEPzvic",
        "outputId": "5baebcaf-46f9-4085-c7d6-69f4185edc7e"
      },
      "execution_count": 16,
      "outputs": [
        {
          "output_type": "stream",
          "name": "stdout",
          "text": [
            "1\n",
            "3\n",
            "6\n",
            "10\n",
            "15\n",
            "21\n",
            "28\n",
            "36\n",
            "45\n",
            "55\n"
          ]
        }
      ]
    },
    {
      "cell_type": "markdown",
      "source": [
        "### 3.Calculate the factorial of a number using a for loop."
      ],
      "metadata": {
        "id": "Qa3jm9vq0XVF"
      }
    },
    {
      "cell_type": "code",
      "source": [
        "num = int(input(\"Enter the number of which you want factorial. \"))\n",
        "x = range(1, num+1)\n",
        "factor = 1\n",
        "for y in x:\n",
        "  factor = factor * y\n",
        "  print(factor)\n"
      ],
      "metadata": {
        "colab": {
          "base_uri": "https://localhost:8080/"
        },
        "id": "V2g9q-ac0rX8",
        "outputId": "f53aeda6-f2c4-4a76-c8d5-6006a4a1d54e"
      },
      "execution_count": 24,
      "outputs": [
        {
          "output_type": "stream",
          "name": "stdout",
          "text": [
            "Enter the number of which you want factorial. 5\n",
            "1\n",
            "2\n",
            "6\n",
            "24\n",
            "120\n"
          ]
        }
      ]
    }
  ]
}