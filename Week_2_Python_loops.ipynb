{
  "nbformat": 4,
  "nbformat_minor": 0,
  "metadata": {
    "colab": {
      "provenance": [],
      "authorship_tag": "ABX9TyPoCRvOB4ibRNGoI1cLumTO",
      "include_colab_link": true
    },
    "kernelspec": {
      "name": "python3",
      "display_name": "Python 3"
    },
    "language_info": {
      "name": "python"
    }
  },
  "cells": [
    {
      "cell_type": "markdown",
      "metadata": {
        "id": "view-in-github",
        "colab_type": "text"
      },
      "source": [
        "<a href=\"https://colab.research.google.com/github/AshimAcharya/Data-Science-with-Machine-Learning-1.0/blob/main/Week_2_Python_loops.ipynb\" target=\"_parent\"><img src=\"https://colab.research.google.com/assets/colab-badge.svg\" alt=\"Open In Colab\"/></a>"
      ]
    },
    {
      "cell_type": "markdown",
      "source": [
        "### 1.Print numbers from 1 to 5 using a while loop."
      ],
      "metadata": {
        "id": "eLnrAPtoyZf7"
      }
    },
    {
      "cell_type": "code",
      "execution_count": 24,
      "metadata": {
        "colab": {
          "base_uri": "https://localhost:8080/"
        },
        "id": "ZjO8Qfc1rOIR",
        "outputId": "60504ada-a28a-45e8-b065-710ac8fda00e"
      },
      "outputs": [
        {
          "output_type": "stream",
          "name": "stdout",
          "text": [
            "1, 2, 3, 4, 5, "
          ]
        }
      ],
      "source": [
        "#using while loop\n",
        "num = 1\n",
        "\n",
        "while num <= 5:\n",
        "    print(num,end = \", \")\n",
        "    num += 1"
      ]
    },
    {
      "cell_type": "code",
      "source": [
        "#using for loop\n",
        "for num in range(1,6):\n",
        "  print (num)"
      ],
      "metadata": {
        "colab": {
          "base_uri": "https://localhost:8080/"
        },
        "id": "eVdMY4_eWu5N",
        "outputId": "657e125f-9203-47f2-b789-4c14889dda5e"
      },
      "execution_count": 22,
      "outputs": [
        {
          "output_type": "stream",
          "name": "stdout",
          "text": [
            "1\n",
            "2\n",
            "3\n",
            "4\n",
            "5\n"
          ]
        }
      ]
    },
    {
      "cell_type": "markdown",
      "source": [
        "### 2.Calculate the sum of numbers from 1 to 10 using a while loop."
      ],
      "metadata": {
        "id": "Jyc9zkg8zlaB"
      }
    },
    {
      "cell_type": "code",
      "source": [
        "#using while loop\n",
        "x = 1\n",
        "sum = 0\n",
        "\n",
        "while x <= 10:\n",
        "    sum = sum + x\n",
        "    print(sum)\n",
        "    x += 1"
      ],
      "metadata": {
        "colab": {
          "base_uri": "https://localhost:8080/"
        },
        "id": "690_-LEPzvic",
        "outputId": "5baebcaf-46f9-4085-c7d6-69f4185edc7e"
      },
      "execution_count": 16,
      "outputs": [
        {
          "output_type": "stream",
          "name": "stdout",
          "text": [
            "1\n",
            "3\n",
            "6\n",
            "10\n",
            "15\n",
            "21\n",
            "28\n",
            "36\n",
            "45\n",
            "55\n"
          ]
        }
      ]
    },
    {
      "cell_type": "code",
      "source": [
        "#using for loop\n",
        "sum = 0\n",
        "for num in range (1,11):\n",
        "  sum = sum + num\n",
        "  print(sum)\n"
      ],
      "metadata": {
        "colab": {
          "base_uri": "https://localhost:8080/"
        },
        "id": "ErwawdPFXB80",
        "outputId": "472c638c-1b97-4917-cc61-2f17eab35bea"
      },
      "execution_count": 23,
      "outputs": [
        {
          "output_type": "stream",
          "name": "stdout",
          "text": [
            "1\n",
            "3\n",
            "6\n",
            "10\n",
            "15\n",
            "21\n",
            "28\n",
            "36\n",
            "45\n",
            "55\n"
          ]
        }
      ]
    },
    {
      "cell_type": "markdown",
      "source": [
        "### 3.Calculate the factorial of a number using a for loop."
      ],
      "metadata": {
        "id": "Qa3jm9vq0XVF"
      }
    },
    {
      "cell_type": "code",
      "source": [
        "#using for loop\n",
        "num = int(input(\"Enter the number of which you want factorial. \"))\n",
        "x = range(1, num+1)\n",
        "factorial = 1\n",
        "\n",
        "for y in x:\n",
        "  factorial = factorial * y\n",
        "  print(factorial)\n"
      ],
      "metadata": {
        "colab": {
          "base_uri": "https://localhost:8080/"
        },
        "id": "V2g9q-ac0rX8",
        "outputId": "f53aeda6-f2c4-4a76-c8d5-6006a4a1d54e"
      },
      "execution_count": 24,
      "outputs": [
        {
          "output_type": "stream",
          "name": "stdout",
          "text": [
            "Enter the number of which you want factorial. 5\n",
            "1\n",
            "2\n",
            "6\n",
            "24\n",
            "120\n"
          ]
        }
      ]
    },
    {
      "cell_type": "markdown",
      "source": [
        "\n",
        "### 4.Count the number of vowels in a string using a for loop."
      ],
      "metadata": {
        "id": "f1EVem_65xbT"
      }
    },
    {
      "cell_type": "code",
      "source": [
        "#using for loop\n",
        "text = str(input(\"Enter any string. \"))\n",
        "vowels= \"A,E,I,O,U,a,e,i,o,u,\"\n",
        "count = 0\n",
        "for each_letter in text:\n",
        "  if each_letter in vowels:\n",
        "    count += 1\n",
        "    print(count)"
      ],
      "metadata": {
        "colab": {
          "base_uri": "https://localhost:8080/"
        },
        "id": "OPINnxJx59LE",
        "outputId": "febed04e-1fb8-4f7c-eed7-986832866aa0"
      },
      "execution_count": 31,
      "outputs": [
        {
          "output_type": "stream",
          "name": "stdout",
          "text": [
            "Enter any string. I love Indian Teachers.\n",
            "1\n",
            "2\n",
            "3\n",
            "4\n",
            "5\n",
            "6\n",
            "7\n",
            "8\n",
            "9\n"
          ]
        }
      ]
    },
    {
      "cell_type": "markdown",
      "source": [
        "### 5.Print a pattern using nested loops."
      ],
      "metadata": {
        "id": "Di4ZCfQNBrne"
      }
    },
    {
      "cell_type": "code",
      "source": [
        "#using while loop\n",
        "rows = 5\n",
        "while rows >= 1:\n",
        "    column = rows\n",
        "    while column >=1 :\n",
        "        print('#', end='')\n",
        "        column -= 1\n",
        "    print()\n",
        "    print()\n",
        "    rows -= 1\n",
        "\n"
      ],
      "metadata": {
        "colab": {
          "base_uri": "https://localhost:8080/"
        },
        "id": "313rPRArxa50",
        "outputId": "5c7e5c2e-9182-4852-b866-0cdd37086fa1"
      },
      "execution_count": 20,
      "outputs": [
        {
          "output_type": "stream",
          "name": "stdout",
          "text": [
            "#####\n",
            "\n",
            "####\n",
            "\n",
            "###\n",
            "\n",
            "##\n",
            "\n",
            "#\n",
            "\n"
          ]
        }
      ]
    },
    {
      "cell_type": "code",
      "source": [
        "# using for loop\n",
        "for rows in range (5,0):\n",
        "  for columns in range (5,0):\n",
        "    print(\"*\", end=\" \")"
      ],
      "metadata": {
        "id": "h3rdWTDkYY8c"
      },
      "execution_count": 30,
      "outputs": []
    },
    {
      "cell_type": "markdown",
      "source": [
        "### 6. Generate a multiplication table using nested loops."
      ],
      "metadata": {
        "id": "unE2ipZw-9TA"
      }
    },
    {
      "cell_type": "code",
      "source": [
        "for i in range(2,11):\n",
        "  for j in range (1,11):\n",
        "    product = i * j\n",
        "    print(f\" {i} * {j} = {product}\")\n",
        "  print()"
      ],
      "metadata": {
        "colab": {
          "base_uri": "https://localhost:8080/"
        },
        "id": "kY8mwecR_G8J",
        "outputId": "61452701-c7a7-45d7-c732-e62a559059b8"
      },
      "execution_count": 10,
      "outputs": [
        {
          "output_type": "stream",
          "name": "stdout",
          "text": [
            " 2 * 1 = 2\n",
            " 2 * 2 = 4\n",
            " 2 * 3 = 6\n",
            " 2 * 4 = 8\n",
            " 2 * 5 = 10\n",
            " 2 * 6 = 12\n",
            " 2 * 7 = 14\n",
            " 2 * 8 = 16\n",
            " 2 * 9 = 18\n",
            " 2 * 10 = 20\n",
            "\n",
            " 3 * 1 = 3\n",
            " 3 * 2 = 6\n",
            " 3 * 3 = 9\n",
            " 3 * 4 = 12\n",
            " 3 * 5 = 15\n",
            " 3 * 6 = 18\n",
            " 3 * 7 = 21\n",
            " 3 * 8 = 24\n",
            " 3 * 9 = 27\n",
            " 3 * 10 = 30\n",
            "\n",
            " 4 * 1 = 4\n",
            " 4 * 2 = 8\n",
            " 4 * 3 = 12\n",
            " 4 * 4 = 16\n",
            " 4 * 5 = 20\n",
            " 4 * 6 = 24\n",
            " 4 * 7 = 28\n",
            " 4 * 8 = 32\n",
            " 4 * 9 = 36\n",
            " 4 * 10 = 40\n",
            "\n",
            " 5 * 1 = 5\n",
            " 5 * 2 = 10\n",
            " 5 * 3 = 15\n",
            " 5 * 4 = 20\n",
            " 5 * 5 = 25\n",
            " 5 * 6 = 30\n",
            " 5 * 7 = 35\n",
            " 5 * 8 = 40\n",
            " 5 * 9 = 45\n",
            " 5 * 10 = 50\n",
            "\n",
            " 6 * 1 = 6\n",
            " 6 * 2 = 12\n",
            " 6 * 3 = 18\n",
            " 6 * 4 = 24\n",
            " 6 * 5 = 30\n",
            " 6 * 6 = 36\n",
            " 6 * 7 = 42\n",
            " 6 * 8 = 48\n",
            " 6 * 9 = 54\n",
            " 6 * 10 = 60\n",
            "\n",
            " 7 * 1 = 7\n",
            " 7 * 2 = 14\n",
            " 7 * 3 = 21\n",
            " 7 * 4 = 28\n",
            " 7 * 5 = 35\n",
            " 7 * 6 = 42\n",
            " 7 * 7 = 49\n",
            " 7 * 8 = 56\n",
            " 7 * 9 = 63\n",
            " 7 * 10 = 70\n",
            "\n",
            " 8 * 1 = 8\n",
            " 8 * 2 = 16\n",
            " 8 * 3 = 24\n",
            " 8 * 4 = 32\n",
            " 8 * 5 = 40\n",
            " 8 * 6 = 48\n",
            " 8 * 7 = 56\n",
            " 8 * 8 = 64\n",
            " 8 * 9 = 72\n",
            " 8 * 10 = 80\n",
            "\n",
            " 9 * 1 = 9\n",
            " 9 * 2 = 18\n",
            " 9 * 3 = 27\n",
            " 9 * 4 = 36\n",
            " 9 * 5 = 45\n",
            " 9 * 6 = 54\n",
            " 9 * 7 = 63\n",
            " 9 * 8 = 72\n",
            " 9 * 9 = 81\n",
            " 9 * 10 = 90\n",
            "\n",
            " 10 * 1 = 10\n",
            " 10 * 2 = 20\n",
            " 10 * 3 = 30\n",
            " 10 * 4 = 40\n",
            " 10 * 5 = 50\n",
            " 10 * 6 = 60\n",
            " 10 * 7 = 70\n",
            " 10 * 8 = 80\n",
            " 10 * 9 = 90\n",
            " 10 * 10 = 100\n",
            "\n"
          ]
        }
      ]
    }
  ]
}