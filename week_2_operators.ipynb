{
  "nbformat": 4,
  "nbformat_minor": 0,
  "metadata": {
    "colab": {
      "provenance": [],
      "authorship_tag": "ABX9TyNM03dakWxCXUxtX0qvTjFg",
      "include_colab_link": true
    },
    "kernelspec": {
      "name": "python3",
      "display_name": "Python 3"
    },
    "language_info": {
      "name": "python"
    }
  },
  "cells": [
    {
      "cell_type": "markdown",
      "metadata": {
        "id": "view-in-github",
        "colab_type": "text"
      },
      "source": [
        "<a href=\"https://colab.research.google.com/github/AshimAcharya/Data-Science-with-Machine-Learning-1.0/blob/main/week_2_operators.ipynb\" target=\"_parent\"><img src=\"https://colab.research.google.com/assets/colab-badge.svg\" alt=\"Open In Colab\"/></a>"
      ]
    },
    {
      "cell_type": "markdown",
      "source": [
        "1.Calculate the sum, difference, product, and quotient of two numbers."
      ],
      "metadata": {
        "id": "HlpwVKVroACh"
      }
    },
    {
      "cell_type": "code",
      "execution_count": null,
      "metadata": {
        "id": "vPJAtpaCNCsq",
        "colab": {
          "base_uri": "https://localhost:8080/"
        },
        "outputId": "5c7653f3-c249-4dd5-8222-d1bbb0572748"
      },
      "outputs": [
        {
          "output_type": "stream",
          "name": "stdout",
          "text": [
            "hello world\n"
          ]
        }
      ],
      "source": [
        "first_number = float(input(\"Give me first number: \"))\n",
        "second_number = float(input(\"Give me secondnumber: \"))\n",
        "sum = first_number + second_number\n",
        "difference = first_number - second_number\n",
        "product = first_number * second_number\n",
        "quotient = first_number / second_number\n",
        "print(\"The sum of two number is:\",(sum),\" .\")\n",
        "print(\"The difference of two number is:\",(difference),\" .\")\n",
        "print(\"The product of two number is:\",(product),\" .\")\n",
        "print(\"The quotient of two number is:\",(quotient),\" .\")\n"
      ]
    }
  ]
}