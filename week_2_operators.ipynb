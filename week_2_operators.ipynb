{
  "nbformat": 4,
  "nbformat_minor": 0,
  "metadata": {
    "colab": {
      "provenance": [],
      "authorship_tag": "ABX9TyMqEc3CKznzej+eQ4Bd2JTM",
      "include_colab_link": true
    },
    "kernelspec": {
      "name": "python3",
      "display_name": "Python 3"
    },
    "language_info": {
      "name": "python"
    }
  },
  "cells": [
    {
      "cell_type": "markdown",
      "metadata": {
        "id": "view-in-github",
        "colab_type": "text"
      },
      "source": [
        "<a href=\"https://colab.research.google.com/github/AshimAcharya/Data-Science-with-Machine-Learning-1.0/blob/main/week_2_operators.ipynb\" target=\"_parent\"><img src=\"https://colab.research.google.com/assets/colab-badge.svg\" alt=\"Open In Colab\"/></a>"
      ]
    },
    {
      "cell_type": "markdown",
      "source": [
        "### 1.Calculate the sum, difference, product, and quotient of two numbers."
      ],
      "metadata": {
        "id": "HlpwVKVroACh"
      }
    },
    {
      "cell_type": "code",
      "execution_count": 2,
      "metadata": {
        "id": "vPJAtpaCNCsq",
        "colab": {
          "base_uri": "https://localhost:8080/"
        },
        "outputId": "7cafb7f9-954e-49a3-e2be-623cca192729"
      },
      "outputs": [
        {
          "output_type": "stream",
          "name": "stdout",
          "text": [
            "Give me first number: 6\n",
            "Give me secondnumber: 3\n",
            "The sum of two number is: 9.0  .\n",
            "The difference of two number is: 3.0  .\n",
            "The product of two number is: 18.0  .\n",
            "The quotient of two number is: 2.0  .\n"
          ]
        }
      ],
      "source": [
        "first_number = float(input(\"Give me first number: \"))\n",
        "second_number = float(input(\"Give me secondnumber: \"))\n",
        "sum = first_number + second_number\n",
        "difference = first_number - second_number\n",
        "product = first_number * second_number\n",
        "quotient = first_number / second_number\n",
        "print(\"The sum of two number is:\",(sum),\" .\")\n",
        "print(\"The difference of two number is:\",(difference),\" .\")\n",
        "print(\"The product of two number is:\",(product),\" .\")\n",
        "print(\"The quotient of two number is:\",(quotient),\" .\")\n"
      ]
    },
    {
      "cell_type": "markdown",
      "source": [
        "### 2.Perform various assignment operations on a variable."
      ],
      "metadata": {
        "id": "UCof-zWJorvA"
      }
    },
    {
      "cell_type": "code",
      "source": [
        "# Let a number equals 20. Now we perform differrent assignment operations in it.\n",
        "\n",
        "#Assignment operator\n",
        "number = 20\n",
        "# Addition assignment operator\n",
        "number += 5\n",
        "print(number)\n",
        "# Subtraction assignment operator\n",
        "number -= 10\n",
        "print(number)\n",
        "# Multiplication assignment operator\n",
        "number  *= 3\n",
        "print(number)\n",
        "# Division assignment operator\n",
        "number /= 9\n",
        "print(number)\n"
      ],
      "metadata": {
        "colab": {
          "base_uri": "https://localhost:8080/"
        },
        "id": "zT6T8RmnoyyQ",
        "outputId": "d25eb211-a363-4713-9af6-badd771d8568"
      },
      "execution_count": 5,
      "outputs": [
        {
          "output_type": "stream",
          "name": "stdout",
          "text": [
            "25\n",
            "15\n",
            "45\n",
            "5.0\n"
          ]
        }
      ]
    },
    {
      "cell_type": "markdown",
      "source": [
        "### 3.Compare two numbers and print the results."
      ],
      "metadata": {
        "id": "imCq0YjjrPq1"
      }
    },
    {
      "cell_type": "code",
      "source": [
        "          ## Comparision Operator\n",
        "first_number = float(input(\"Give me first number: \"))\n",
        "second_number = float(input(\"Give me secondnumber: \"))\n",
        "\n",
        "# Not equal operator\n",
        "result = first_number != second_number\n",
        "print (\"The numbers are not equal.\",(result))\n",
        "\n",
        "# Equal operator\n",
        "result = first_number == second_number\n",
        "print (\"The numbers are equal.\",(result))\n",
        "\n",
        "# Greater than operator\n",
        "result = first_number > second_number\n",
        "print (\"The first number is greater than second number.\",(result))\n",
        "\n",
        "# Less than operator\n",
        "result = first_number < second_number\n",
        "print (\"The first number is less than second number.\",(result))\n",
        "\n",
        "# Greater than or equal operator\n",
        "result = first_number >= second_number\n",
        "print (\"The first number is greater than or equal to second number.\",(result))\n",
        "\n",
        "# Less than or equal to operator\n",
        "result = first_number <= second_number\n",
        "print (\"The first number is less than or equal to second number.\",(result))\n"
      ],
      "metadata": {
        "id": "v-T1G70Erkrk",
        "outputId": "11b1cffa-02c9-46e7-9eeb-29e57f503279",
        "colab": {
          "base_uri": "https://localhost:8080/"
        }
      },
      "execution_count": 6,
      "outputs": [
        {
          "output_type": "stream",
          "name": "stdout",
          "text": [
            "Give me first number: 9\n",
            "Give me secondnumber: 8\n",
            "The numbers are not equal. True\n",
            "The numbers are equal. False\n",
            "The first number is greater than second number. True\n",
            "The first number is less than second number. False\n",
            "The first number is greater than or equal to second number. True\n",
            "The first number is less than or equal to second number. False\n"
          ]
        }
      ]
    },
    {
      "cell_type": "markdown",
      "source": [
        "### 4.Check conditions using logical operators."
      ],
      "metadata": {
        "id": "wms-YC052idv"
      }
    },
    {
      "cell_type": "code",
      "source": [
        "        ##Logical operator\n",
        "# Logical (and)\n",
        "p = True\n",
        "q = False\n",
        "result = p and q\n",
        "print (\"The logical (and) operation between p and q is: \",(result))\n",
        "\n",
        "# Logical (or)\n",
        "result = p or q\n",
        "print (\"The logical (or) operation between p and q is: \",(result))\n",
        "\n",
        "# Logical (not)\n",
        "result = not p\n",
        "print(\"The logical (not) operation of p is:\", (result))\n",
        "\n",
        "result = not q\n",
        "print(\"The logical (not) operation of q is:\", (result))\n",
        "\n"
      ],
      "metadata": {
        "id": "BEOCGg722eSw",
        "outputId": "0f74d0ae-12e2-474f-b3bf-57a6040a1cea",
        "colab": {
          "base_uri": "https://localhost:8080/"
        }
      },
      "execution_count": 8,
      "outputs": [
        {
          "output_type": "stream",
          "name": "stdout",
          "text": [
            "The logical (and) operation between p and q is  False\n",
            "The logical (or) operation between p and q is  True\n",
            "The logical (not) operation of p is False\n",
            "The logical (not) operation of q is True\n"
          ]
        }
      ]
    },
    {
      "cell_type": "markdown",
      "source": [
        "### 5.Check the identity of variables."
      ],
      "metadata": {
        "id": "z-28tRGg41om"
      }
    },
    {
      "cell_type": "code",
      "source": [
        "from ast import IsNot\n",
        "from re import M\n",
        "      ## Identity operators\n",
        "\n",
        "# \"is\" operator\n",
        "m = \"ashim\"\n",
        "n = m\n",
        "result = m is n\n",
        "print (\"m is same as n.\",(result))\n",
        "\n",
        "# \"is\" operator\n",
        "result = m is not n\n",
        "print (\"m is not same as n.\",(result))"
      ],
      "metadata": {
        "id": "jTTyi1mX49dl",
        "outputId": "db6f36c0-c8c5-4376-9787-430f73d07f74",
        "colab": {
          "base_uri": "https://localhost:8080/"
        }
      },
      "execution_count": 9,
      "outputs": [
        {
          "output_type": "stream",
          "name": "stdout",
          "text": [
            "m is same as n. True\n",
            "m is not same as n. False\n"
          ]
        }
      ]
    },
    {
      "cell_type": "markdown",
      "source": [
        "### 6. Perform bitwise operations on any two integers."
      ],
      "metadata": {
        "id": "EKGF0fZU7I3t"
      }
    },
    {
      "cell_type": "code",
      "source": [
        "      ## Bitwise shift operator\n",
        "x = 4\n",
        "# Left (<<) operator\n",
        "result = 4<<3\n",
        "print (\"The bitwise left operation of 4 by 3 is \",(result),\".\")\n",
        "\n",
        "# Right (>>) operator\n",
        "result = 64>>2\n",
        "print (\"The bitwise right operation of 64 by 3 is \",(result),\".\")"
      ],
      "metadata": {
        "id": "NM6EEPM37Q3D",
        "outputId": "8cb8a379-4f6f-406d-c237-3fe7cded2f51",
        "colab": {
          "base_uri": "https://localhost:8080/"
        }
      },
      "execution_count": 10,
      "outputs": [
        {
          "output_type": "stream",
          "name": "stdout",
          "text": [
            "The bitwise left operation of 4 by 3 is  32 .\n",
            "The bitwise right operation of 64 by 3 is  16 .\n"
          ]
        }
      ]
    },
    {
      "cell_type": "markdown",
      "source": [
        "### 7.Use unary operators to change the sign of a number."
      ],
      "metadata": {
        "id": "rgtXYPvl83dy"
      }
    },
    {
      "cell_type": "code",
      "source": [
        "''' The + operator doesn’t actually change the sign of the number, but it’s\n",
        "    included for completeness.'''\n",
        "\n",
        "number = int(input(\"Enter any integer: \"))\n",
        "\n",
        "# changing the number into it's viceversa\n",
        "opposite_number = -number\n",
        "print(opposite_number)"
      ],
      "metadata": {
        "id": "uEfzFoS387Nr",
        "outputId": "7f125d76-80d0-475e-f54e-be7fad6de563",
        "colab": {
          "base_uri": "https://localhost:8080/"
        }
      },
      "execution_count": 12,
      "outputs": [
        {
          "output_type": "stream",
          "name": "stdout",
          "text": [
            "Enter any integer: -6\n",
            "6\n"
          ]
        }
      ]
    },
    {
      "cell_type": "markdown",
      "source": [
        "### 8.Use the ternary operator to assign values based on conditions."
      ],
      "metadata": {
        "id": "ntqmAz5l_iOx"
      }
    },
    {
      "cell_type": "code",
      "source": [
        "      ## Ternary operator\n",
        "a = int(input(\"Give me first number: \"))\n",
        "b = int(input(\"Give me secondnumber: \"))\n",
        "\n",
        "# Copy value of a in min if a < b else copy b\n",
        "value = a if a < b else b\n",
        "\n",
        "print(value)\n"
      ],
      "metadata": {
        "id": "NyQb-B1P_uNB",
        "outputId": "cf1dc971-2798-4ea3-ca1e-682af110b51d",
        "colab": {
          "base_uri": "https://localhost:8080/"
        }
      },
      "execution_count": 16,
      "outputs": [
        {
          "output_type": "stream",
          "name": "stdout",
          "text": [
            "Give me first number: 3\n",
            "Give me secondnumber: 2\n",
            "2\n"
          ]
        }
      ]
    }
  ]
}