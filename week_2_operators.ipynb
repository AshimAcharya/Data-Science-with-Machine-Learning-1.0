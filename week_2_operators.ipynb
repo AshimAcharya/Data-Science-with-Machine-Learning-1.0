{
  "nbformat": 4,
  "nbformat_minor": 0,
  "metadata": {
    "colab": {
      "provenance": [],
      "authorship_tag": "ABX9TyMm6ib4i3hxymmjcrudiCFZ",
      "include_colab_link": true
    },
    "kernelspec": {
      "name": "python3",
      "display_name": "Python 3"
    },
    "language_info": {
      "name": "python"
    }
  },
  "cells": [
    {
      "cell_type": "markdown",
      "metadata": {
        "id": "view-in-github",
        "colab_type": "text"
      },
      "source": [
        "<a href=\"https://colab.research.google.com/github/AshimAcharya/Data-Science-with-Machine-Learning-1.0/blob/main/week_2_operators.ipynb\" target=\"_parent\"><img src=\"https://colab.research.google.com/assets/colab-badge.svg\" alt=\"Open In Colab\"/></a>"
      ]
    },
    {
      "cell_type": "markdown",
      "source": [
        "1.Calculate the sum, difference, product, and quotient of two numbers."
      ],
      "metadata": {
        "id": "HlpwVKVroACh"
      }
    },
    {
      "cell_type": "code",
      "execution_count": 2,
      "metadata": {
        "id": "vPJAtpaCNCsq",
        "colab": {
          "base_uri": "https://localhost:8080/"
        },
        "outputId": "7cafb7f9-954e-49a3-e2be-623cca192729"
      },
      "outputs": [
        {
          "output_type": "stream",
          "name": "stdout",
          "text": [
            "Give me first number: 6\n",
            "Give me secondnumber: 3\n",
            "The sum of two number is: 9.0  .\n",
            "The difference of two number is: 3.0  .\n",
            "The product of two number is: 18.0  .\n",
            "The quotient of two number is: 2.0  .\n"
          ]
        }
      ],
      "source": [
        "first_number = float(input(\"Give me first number: \"))\n",
        "second_number = float(input(\"Give me secondnumber: \"))\n",
        "sum = first_number + second_number\n",
        "difference = first_number - second_number\n",
        "product = first_number * second_number\n",
        "quotient = first_number / second_number\n",
        "print(\"The sum of two number is:\",(sum),\" .\")\n",
        "print(\"The difference of two number is:\",(difference),\" .\")\n",
        "print(\"The product of two number is:\",(product),\" .\")\n",
        "print(\"The quotient of two number is:\",(quotient),\" .\")\n"
      ]
    },
    {
      "cell_type": "markdown",
      "source": [
        "2.Perform various assignment operations on a variable."
      ],
      "metadata": {
        "id": "UCof-zWJorvA"
      }
    },
    {
      "cell_type": "code",
      "source": [
        "# Let a number equals 20. Now we perform differrent assignment operations in it.\n",
        "number = 20\n",
        "# Addition assignment operator\n",
        "number += 5\n",
        "print(number)\n",
        "# Subtraction assignment operator\n",
        "number -= 10\n",
        "print(number)\n",
        "# Multiplication assignment operator\n",
        "number  *= 3\n",
        "print(number)\n",
        "# Division assignment operator\n",
        "number /= 9\n",
        "print(number)\n"
      ],
      "metadata": {
        "id": "zT6T8RmnoyyQ",
        "outputId": "d25eb211-a363-4713-9af6-badd771d8568",
        "colab": {
          "base_uri": "https://localhost:8080/"
        }
      },
      "execution_count": 5,
      "outputs": [
        {
          "output_type": "stream",
          "name": "stdout",
          "text": [
            "25\n",
            "15\n",
            "45\n",
            "5.0\n"
          ]
        }
      ]
    }
  ]
}